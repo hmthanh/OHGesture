{
 "cells": [
  {
   "cell_type": "code",
   "execution_count": 1,
   "id": "initial_id",
   "metadata": {
    "ExecuteTime": {
     "end_time": "2023-11-15T14:17:25.710453400Z",
     "start_time": "2023-11-15T14:17:25.637386300Z"
    },
    "collapsed": true
   },
   "outputs": [],
   "source": [
    "import numpy as np"
   ]
  },
  {
   "cell_type": "code",
   "execution_count": null,
   "id": "29bb63fd6e16eef8",
   "metadata": {
    "collapsed": false
   },
   "outputs": [],
   "source": [
    "python sample.py --config=./configs/DiffuseStyleGesture.yml --gpu mps --model_path ./model000450000.pt --speech_path ./inputwav/001_Neutral_0_x_1_0.wav --max_len 0\n",
    "python sample.py --config=./configs/DiffuseStyleGesture.yml --gpu mps --model_path ./model000450000.pt --speech_path ./inputwav/003_Neutral_2_x_1_0.wav --max_len 0\n",
    "python sample.py --config=./configs/DiffuseStyleGesture.yml --gpu mps --model_path ./model000450000.pt --speech_path ./inputwav/006_Sad_0_x_1_0.wav --max_len 0\n",
    "python sample.py --config=./configs/DiffuseStyleGesture.yml --gpu mps --model_path ./model000450000.pt --speech_path ./inputwav/008_Sad_2_x_1_0.wav --max_len 0\n",
    "python sample.py --config=./configs/DiffuseStyleGesture.yml --gpu mps --model_path ./model000450000.pt --speech_path ./inputwav/011_Happy_0_x_1_0.wav --max_len 0\n",
    "python sample.py --config=./configs/DiffuseStyleGesture.yml --gpu mps --model_path ./model000450000.pt --speech_path ./inputwav/013_Happy_2_x_1_0.wav --max_len 0\n",
    "python sample.py --config=./configs/DiffuseStyleGesture.yml --gpu mps --model_path ./model000450000.pt --speech_path ./inputwav/016_Relaxed_0_x_1_0.wav --max_len 0\n",
    "python sample.py --config=./configs/DiffuseStyleGesture.yml --gpu mps --model_path ./model000450000.pt --speech_path ./inputwav/018_Relaxed_2_x_1_0.wav --max_len 0\n",
    "python sample.py --config=./configs/DiffuseStyleGesture.yml --gpu mps --model_path ./model000450000.pt --speech_path ./inputwav/021_Old_0_x_1_0.wav --max_len 0\n",
    "python sample.py --config=./configs/DiffuseStyleGesture.yml --gpu mps --model_path ./model000450000.pt --speech_path ./inputwav/023_Old_2_x_1_0.wav --max_len 0\n",
    "python sample.py --config=./configs/DiffuseStyleGesture.yml --gpu mps --model_path ./model000450000.pt --speech_path ./inputwav/026_Angry_0_x_1_0.wav --max_len 0\n",
    "python sample.py --config=./configs/DiffuseStyleGesture.yml --gpu mps --model_path ./model000450000.pt --speech_path ./inputwav/028_Angry_2_x_1_0.wav --max_len 0w"
   ]
  }
 ],
 "metadata": {
  "kernelspec": {
   "display_name": "Python 3",
   "language": "python",
   "name": "python3"
  },
  "language_info": {
   "codemirror_mode": {
    "name": "ipython",
    "version": 2
   },
   "file_extension": ".py",
   "mimetype": "text/x-python",
   "name": "python",
   "nbconvert_exporter": "python",
   "pygments_lexer": "ipython2",
   "version": "2.7.6"
  }
 },
 "nbformat": 4,
 "nbformat_minor": 5
}
