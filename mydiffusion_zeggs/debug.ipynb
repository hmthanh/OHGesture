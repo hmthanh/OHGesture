{
 "cells": [
  {
   "cell_type": "code",
   "id": "initial_id",
   "metadata": {
    "collapsed": true,
    "ExecuteTime": {
     "end_time": "2024-11-25T04:57:49.434155Z",
     "start_time": "2024-11-25T04:57:49.349289Z"
    }
   },
   "source": [
    "import numpy as np"
   ],
   "outputs": [],
   "execution_count": 2
  },
  {
   "metadata": {
    "ExecuteTime": {
     "end_time": "2024-11-25T07:05:24.820355Z",
     "start_time": "2024-11-25T07:05:24.815530Z"
    }
   },
   "cell_type": "code",
   "source": "python sample.py --config=./configs/DiffuseStyleGesture.yml --gpu mps --model_path ./model000050000.pt --speech_path ./inputwav/001_Neutral_0_x_1_0.wav --max_len 0",
   "id": "de8470851589a88e",
   "outputs": [
    {
     "ename": "SyntaxError",
     "evalue": "invalid decimal literal (1234440310.py, line 1)",
     "output_type": "error",
     "traceback": [
      "\u001B[0;36m  Cell \u001B[0;32mIn[18], line 1\u001B[0;36m\u001B[0m\n\u001B[0;31m    python sample.py --config=./configs/DiffuseStyleGesture.yml --gpu mps --model_path ./model000050000.pt --speech_path ./inputwav/001_Neutral_0_x_1_0.wav --max_len 0\u001B[0m\n\u001B[0m                                                                                                                                       ^\u001B[0m\n\u001B[0;31mSyntaxError\u001B[0m\u001B[0;31m:\u001B[0m invalid decimal literal\n"
     ]
    }
   ],
   "execution_count": 18
  },
  {
   "cell_type": "code",
   "execution_count": null,
   "id": "29bb63fd6e16eef8",
   "metadata": {
    "collapsed": false
   },
   "outputs": [],
   "source": [
    "python sample.py --config=./configs/DiffuseStyleGesture.yml --gpu mps --model_path ./model000450000.pt --speech_path ./inputwav/001_Neutral_0_x_1_0.wav --max_len 0\n",
    "python sample.py --config=./configs/DiffuseStyleGesture.yml --gpu mps --model_path ./model000450000.pt --speech_path ./inputwav/003_Neutral_2_x_1_0.wav --max_len 0\n",
    "python sample.py --config=./configs/DiffuseStyleGesture.yml --gpu mps --model_path ./model000450000.pt --speech_path ./inputwav/006_Sad_0_x_1_0.wav --max_len 0\n",
    "python sample.py --config=./configs/DiffuseStyleGesture.yml --gpu mps --model_path ./model000450000.pt --speech_path ./inputwav/008_Sad_2_x_1_0.wav --max_len 0\n",
    "python sample.py --config=./configs/DiffuseStyleGesture.yml --gpu mps --model_path ./model000450000.pt --speech_path ./inputwav/011_Happy_0_x_1_0.wav --max_len 0\n",
    "python sample.py --config=./configs/DiffuseStyleGesture.yml --gpu mps --model_path ./model000450000.pt --speech_path ./inputwav/013_Happbby_2_x_1_0.wav --max_len 0\n",
    "python sample.py --config=./configs/DiffuseStyleGesture.yml --gpu mps --model_path ./model000450000.pt --speech_path ./inputwav/016_Relaxed_0_x_1_0.wav --max_len 0\n",
    "python sample.py --config=./configs/DiffuseStyleGesture.yml --gpu mps --model_path ./model000450000.pt --speech_path ./inputwav/018_Relaxed_2_x_1_0.wav --max_len 0\n",
    "python sample.py --config=./configs/DiffuseStyleGesture.yml --gpu mps --model_path ./model000450000.pt --speech_path ./inputwav/021_Old_0_x_1_0.wav --max_len 0\n",
    "python sample.py --config=./configs/DiffuseStyleGesture.yml --gpu mps --model_path ./model000450000.pt --speech_path ./inputwav/023_Old_2_x_1_0.wav --max_len 0\n",
    "python sample.py --config=./configs/DiffuseStyleGesture.yml --gpu mps --model_path ./model000450000.pt --speech_path ./inputwav/026_Angry_0_x_1_0.wav --max_len 0\n",
    "python sample.py --config=./configs/DiffuseStyleGesture.yml --gpu mps --model_path ./model000450000.pt --speech_path ./inputwav/028_Angry_2_x_1_0.wav --max_len 0w"
   ]
  },
  {
   "metadata": {
    "ExecuteTime": {
     "end_time": "2024-11-25T05:04:39.057017Z",
     "start_time": "2024-11-25T05:04:39.052157Z"
    }
   },
   "cell_type": "code",
   "source": [
    "# embeddings = np.load(\"/Users/thanh/OpenHuman/OHGesture/ZeroEGGSProcessing/processed/train/embedding/001_Neutral_0_x_1_0.npy\")\n",
    "embeddings = np.load(\"/Users/thanh/OpenHuman/OHGesture/ZeroEGGSProcessing/processed/train/embedding/003_Neutral_2_x_1_0.npy\")"
   ],
   "id": "22052a9505e7d317",
   "outputs": [],
   "execution_count": 12
  },
  {
   "metadata": {
    "ExecuteTime": {
     "end_time": "2024-11-25T05:04:44.603107Z",
     "start_time": "2024-11-25T05:04:44.600943Z"
    }
   },
   "cell_type": "code",
   "source": [
    "python sample.py --config=./configs/DiffuseStyleGesture.yml --gpu mps --model_path ./model000050000.pt --speech_path ./inputwav/001_Neutral_0_x_1_0.wav --max_len 0\n",
    "python sample.py --config=./configs/DiffuseStyleGesture.yml --gpu mps --model_path ./model000050000.pt --speech_path ./inputwav/003_Neutral_2_x_1_0.wav --max_len 0\n",
    "python sample.py --config=./configs/DiffuseStyleGesture.yml --gpu mps --model_path ./model000050000.pt --speech_path ./inputwav/006_Sad_0_x_1_0.wav --max_len 0\n",
    "python sample.py --config=./configs/DiffuseStyleGesture.yml --gpu mps --model_path ./model000050000.pt --speech_path ./inputwav/008_Sad_2_x_1_0.wav --max_len 0\n",
    "python sample.py --config=./configs/DiffuseStyleGesture.yml --gpu mps --model_path ./model000050000.pt --speech_path ./inputwav/011_Happy_0_x_1_0.wav --max_len 0\n",
    "python sample.py --config=./configs/DiffuseStyleGesture.yml --gpu mps --model_path ./model000050000.pt --speech_path ./inputwav/013_Happbby_2_x_1_0.wav --max_len 0\n",
    "python sample.py --config=./configs/DiffuseStyleGesture.yml --gpu mps --model_path ./model000050000.pt --speech_path ./inputwav/016_Relaxed_0_x_1_0.wav --max_len 0\n",
    "python sample.py --config=./configs/DiffuseStyleGesture.yml --gpu mps --model_path ./model000050000.pt --speech_path ./inputwav/018_Relaxed_2_x_1_0.wav --max_len 0\n",
    "python sample.py --config=./configs/DiffuseStyleGesture.yml --gpu mps --model_path ./model000050000.pt --speech_path ./inputwav/021_Old_0_x_1_0.wav --max_len 0\n",
    "python sample.py --config=./configs/DiffuseStyleGesture.yml --gpu mps --model_path ./model000050000.pt --speech_path ./inputwav/023_Old_2_x_1_0.wav --max_len 0\n",
    "python sample.py --config=./configs/DiffuseStyleGesture.yml --gpu mps --model_path ./model000050000.pt --speech_path ./inputwav/026_Angry_0_x_1_0.wav --max_len 0\n",
    "python sample.py --config=./configs/DiffuseStyleGesture.yml --gpu mps --model_path ./model000050000.pt --speech_path ./inputwav/028_Angry_2_x_1_0.wav --max_len 0"
   ],
   "id": "9d9ccb7de8ff4d25",
   "outputs": [],
   "execution_count": 13
  },
  {
   "metadata": {},
   "cell_type": "code",
   "outputs": [],
   "execution_count": null,
   "source": "",
   "id": "2570f105013d1e12"
  },
  {
   "metadata": {},
   "cell_type": "code",
   "outputs": [],
   "execution_count": null,
   "source": "np.maximum(embeddings, 0)",
   "id": "5bb3a7dee30fc38c"
  },
  {
   "metadata": {
    "ExecuteTime": {
     "end_time": "2024-11-25T07:29:31.118936Z",
     "start_time": "2024-11-25T07:29:31.117517Z"
    }
   },
   "cell_type": "code",
   "source": "",
   "id": "c0f649fc961824d",
   "outputs": [],
   "execution_count": 18
  },
  {
   "metadata": {
    "ExecuteTime": {
     "end_time": "2024-11-25T05:04:47.001060Z",
     "start_time": "2024-11-25T05:04:46.996610Z"
    }
   },
   "cell_type": "code",
   "source": "embeddings.shape",
   "id": "50edb7488d1896f3",
   "outputs": [
    {
     "data": {
      "text/plain": [
       "(2599, 300)"
      ]
     },
     "execution_count": 15,
     "metadata": {},
     "output_type": "execute_result"
    }
   ],
   "execution_count": 15
  },
  {
   "metadata": {
    "ExecuteTime": {
     "end_time": "2024-11-25T05:04:48.375752Z",
     "start_time": "2024-11-25T05:04:48.370611Z"
    }
   },
   "cell_type": "code",
   "source": [
    "# Check which rows satisfy the condition (all elements >= 0)\n",
    "rows_with_non_negative = np.all(embeddings > 0, axis=1)\n",
    "\n",
    "# Indices of rows that meet the condition\n",
    "row_indices = np.where(rows_with_non_negative)[0]"
   ],
   "id": "c354f2f647a0dcb8",
   "outputs": [],
   "execution_count": 16
  },
  {
   "metadata": {
    "ExecuteTime": {
     "end_time": "2024-11-25T05:04:49.267984Z",
     "start_time": "2024-11-25T05:04:49.266233Z"
    }
   },
   "cell_type": "code",
   "source": "print(f\"Indices of rows where all elements >= 0: {row_indices}\")",
   "id": "8d75766420b642d9",
   "outputs": [
    {
     "name": "stdout",
     "output_type": "stream",
     "text": [
      "Indices of rows where all elements >= 0: []\n"
     ]
    }
   ],
   "execution_count": 17
  },
  {
   "metadata": {},
   "cell_type": "code",
   "outputs": [],
   "execution_count": null,
   "source": "",
   "id": "d69bb163fe4c9c56"
  }
 ],
 "metadata": {
  "kernelspec": {
   "display_name": "Python 3",
   "language": "python",
   "name": "python3"
  },
  "language_info": {
   "codemirror_mode": {
    "name": "ipython",
    "version": 2
   },
   "file_extension": ".py",
   "mimetype": "text/x-python",
   "name": "python",
   "nbconvert_exporter": "python",
   "pygments_lexer": "ipython2",
   "version": "2.7.6"
  }
 },
 "nbformat": 4,
 "nbformat_minor": 5
}
