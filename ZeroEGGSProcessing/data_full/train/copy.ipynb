{
 "cells": [
  {
   "cell_type": "code",
   "execution_count": 24,
   "id": "initial_id",
   "metadata": {
    "collapsed": true,
    "ExecuteTime": {
     "end_time": "2024-11-29T15:58:24.618471200Z",
     "start_time": "2024-11-29T15:58:24.600441100Z"
    }
   },
   "outputs": [],
   "source": [
    "import os\n",
    "import shutil\n",
    "import csv"
   ]
  },
  {
   "cell_type": "code",
   "execution_count": 28,
   "outputs": [
    {
     "data": {
      "text/plain": "['001_Neutral_0_x_1_0.npy',\n '002_Neutral_1_x_1_0.npy',\n '003_Neutral_2_x_1_0.npy',\n '004_Neutral_3_x_1_0.npy',\n '005_Neutral_4_x_1_0.npy',\n '006_Sad_0_x_1_0.npy',\n '007_Sad_1_x_1_0.npy',\n '008_Sad_2_x_1_0.npy',\n '009_Sad_3_x_1_0.npy',\n '010_Sad_4_x_1_0.npy',\n '011_Happy_0_x_1_0.npy',\n '012_Happy_1_x_1_0.npy',\n '013_Happy_2_x_1_0.npy',\n '014_Happy_3_x_1_0.npy',\n '015_Happy_4_x_1_0.npy',\n '016_Relaxed_0_x_1_0.npy',\n '017_Relaxed_1_x_1_0.npy',\n '018_Relaxed_2_x_1_0.npy',\n '019_Relaxed_3_x_1_0.npy',\n '020_Relaxed_4_x_1_0.npy',\n '021_Old_0_x_1_0.npy',\n '022_Old_1_x_1_0.npy',\n '023_Old_2_x_1_0.npy',\n '024_Old_3_x_1_0.npy',\n '025_Old_4_x_1_0.npy',\n '026_Angry_0_x_1_0.npy',\n '027_Angry_1_x_1_0.npy',\n '028_Angry_2_x_1_0.npy',\n '029_Angry_3_x_1_0.npy']"
     },
     "execution_count": 28,
     "metadata": {},
     "output_type": "execute_result"
    }
   ],
   "source": [
    "# csv_files = [f for f in sorted(os.listdir(\"./corpus\")) if f.endswith(\".csv\")]\n",
    "# csv_files\n",
    "\n",
    "npy_files = [f for f in sorted(os.listdir(\"../../processed/train/embedding\")) if f.endswith(\".npy\")]\n",
    "npy_files"
   ],
   "metadata": {
    "collapsed": false,
    "ExecuteTime": {
     "end_time": "2024-11-29T16:01:20.892852400Z",
     "start_time": "2024-11-29T16:01:20.868883900Z"
    }
   },
   "id": "3edef400ba8c931f"
  },
  {
   "cell_type": "code",
   "execution_count": null,
   "outputs": [],
   "source": [],
   "metadata": {
    "collapsed": false
   },
   "id": "d5bbddf05bcf190b"
  },
  {
   "cell_type": "code",
   "execution_count": null,
   "outputs": [],
   "source": [],
   "metadata": {
    "collapsed": false
   },
   "id": "b3fbc770c1960e4d"
  },
  {
   "cell_type": "code",
   "execution_count": 26,
   "outputs": [
    {
     "data": {
      "text/plain": "['001_Neutral_0_mirror_x_0_9.bvh',\n '001_Neutral_0_mirror_x_1_0.bvh',\n '001_Neutral_0_mirror_x_1_1.bvh',\n '001_Neutral_0_x_0_9.bvh',\n '001_Neutral_0_x_1_0.bvh',\n '001_Neutral_0_x_1_1.bvh',\n '002_Neutral_1_mirror_x_0_9.bvh',\n '002_Neutral_1_mirror_x_1_0.bvh',\n '002_Neutral_1_mirror_x_1_1.bvh',\n '002_Neutral_1_x_0_9.bvh',\n '002_Neutral_1_x_1_0.bvh',\n '002_Neutral_1_x_1_1.bvh',\n '003_Neutral_2_mirror_x_0_9.bvh',\n '003_Neutral_2_mirror_x_1_0.bvh',\n '003_Neutral_2_mirror_x_1_1.bvh',\n '003_Neutral_2_x_0_9.bvh',\n '003_Neutral_2_x_1_0.bvh',\n '003_Neutral_2_x_1_1.bvh',\n '004_Neutral_3_mirror_x_0_9.bvh',\n '004_Neutral_3_mirror_x_1_0.bvh',\n '004_Neutral_3_mirror_x_1_1.bvh',\n '004_Neutral_3_x_0_9.bvh',\n '004_Neutral_3_x_1_0.bvh',\n '004_Neutral_3_x_1_1.bvh',\n '005_Neutral_4_mirror_x_0_9.bvh',\n '005_Neutral_4_mirror_x_1_0.bvh',\n '005_Neutral_4_mirror_x_1_1.bvh',\n '005_Neutral_4_x_0_9.bvh',\n '005_Neutral_4_x_1_0.bvh',\n '005_Neutral_4_x_1_1.bvh',\n '006_Sad_0_mirror_x_0_9.bvh',\n '006_Sad_0_mirror_x_1_0.bvh',\n '006_Sad_0_mirror_x_1_1.bvh',\n '006_Sad_0_x_0_9.bvh',\n '006_Sad_0_x_1_0.bvh',\n '006_Sad_0_x_1_1.bvh',\n '007_Sad_1_mirror_x_0_9.bvh',\n '007_Sad_1_mirror_x_1_0.bvh',\n '007_Sad_1_mirror_x_1_1.bvh',\n '007_Sad_1_x_0_9.bvh',\n '007_Sad_1_x_1_0.bvh',\n '007_Sad_1_x_1_1.bvh',\n '008_Sad_2_mirror_x_0_9.bvh',\n '008_Sad_2_mirror_x_1_0.bvh',\n '008_Sad_2_mirror_x_1_1.bvh',\n '008_Sad_2_x_0_9.bvh',\n '008_Sad_2_x_1_0.bvh',\n '008_Sad_2_x_1_1.bvh',\n '009_Sad_3_mirror_x_0_9.bvh',\n '009_Sad_3_mirror_x_1_0.bvh',\n '009_Sad_3_mirror_x_1_1.bvh',\n '009_Sad_3_x_0_9.bvh',\n '009_Sad_3_x_1_0.bvh',\n '009_Sad_3_x_1_1.bvh',\n '010_Sad_4_mirror_x_0_9.bvh',\n '010_Sad_4_mirror_x_1_0.bvh',\n '010_Sad_4_mirror_x_1_1.bvh',\n '010_Sad_4_x_0_9.bvh',\n '010_Sad_4_x_1_0.bvh',\n '010_Sad_4_x_1_1.bvh',\n '011_Happy_0_mirror_x_0_9.bvh',\n '011_Happy_0_mirror_x_1_0.bvh',\n '011_Happy_0_mirror_x_1_1.bvh',\n '011_Happy_0_x_0_9.bvh',\n '011_Happy_0_x_1_0.bvh',\n '011_Happy_0_x_1_1.bvh',\n '012_Happy_1_mirror_x_0_9.bvh',\n '012_Happy_1_mirror_x_1_0.bvh',\n '012_Happy_1_mirror_x_1_1.bvh',\n '012_Happy_1_x_0_9.bvh',\n '012_Happy_1_x_1_0.bvh',\n '012_Happy_1_x_1_1.bvh',\n '013_Happy_2_mirror_x_0_9.bvh',\n '013_Happy_2_mirror_x_1_0.bvh',\n '013_Happy_2_mirror_x_1_1.bvh',\n '013_Happy_2_x_0_9.bvh',\n '013_Happy_2_x_1_0.bvh',\n '013_Happy_2_x_1_1.bvh',\n '014_Happy_3_mirror_x_0_9.bvh',\n '014_Happy_3_mirror_x_1_0.bvh',\n '014_Happy_3_mirror_x_1_1.bvh',\n '014_Happy_3_x_0_9.bvh',\n '014_Happy_3_x_1_0.bvh',\n '014_Happy_3_x_1_1.bvh',\n '015_Happy_4_mirror_x_0_9.bvh',\n '015_Happy_4_mirror_x_1_0.bvh',\n '015_Happy_4_mirror_x_1_1.bvh',\n '015_Happy_4_x_0_9.bvh',\n '015_Happy_4_x_1_0.bvh',\n '015_Happy_4_x_1_1.bvh',\n '016_Relaxed_0_mirror_x_0_9.bvh',\n '016_Relaxed_0_mirror_x_1_0.bvh',\n '016_Relaxed_0_mirror_x_1_1.bvh',\n '016_Relaxed_0_x_0_9.bvh',\n '016_Relaxed_0_x_1_0.bvh',\n '016_Relaxed_0_x_1_1.bvh',\n '017_Relaxed_1_mirror_x_0_9.bvh',\n '017_Relaxed_1_mirror_x_1_0.bvh',\n '017_Relaxed_1_mirror_x_1_1.bvh',\n '017_Relaxed_1_x_0_9.bvh',\n '017_Relaxed_1_x_1_0.bvh',\n '017_Relaxed_1_x_1_1.bvh',\n '018_Relaxed_2_mirror_x_0_9.bvh',\n '018_Relaxed_2_mirror_x_1_0.bvh',\n '018_Relaxed_2_mirror_x_1_1.bvh',\n '018_Relaxed_2_x_0_9.bvh',\n '018_Relaxed_2_x_1_0.bvh',\n '018_Relaxed_2_x_1_1.bvh',\n '019_Relaxed_3_mirror_x_0_9.bvh',\n '019_Relaxed_3_mirror_x_1_0.bvh',\n '019_Relaxed_3_mirror_x_1_1.bvh',\n '019_Relaxed_3_x_0_9.bvh',\n '019_Relaxed_3_x_1_0.bvh',\n '019_Relaxed_3_x_1_1.bvh',\n '020_Relaxed_4_mirror_x_0_9.bvh',\n '020_Relaxed_4_mirror_x_1_0.bvh',\n '020_Relaxed_4_mirror_x_1_1.bvh',\n '020_Relaxed_4_x_0_9.bvh',\n '020_Relaxed_4_x_1_0.bvh',\n '020_Relaxed_4_x_1_1.bvh',\n '021_Old_0_mirror_x_0_9.bvh',\n '021_Old_0_mirror_x_1_0.bvh',\n '021_Old_0_mirror_x_1_1.bvh',\n '021_Old_0_x_0_9.bvh',\n '021_Old_0_x_1_0.bvh',\n '021_Old_0_x_1_1.bvh',\n '022_Old_1_mirror_x_0_9.bvh',\n '022_Old_1_mirror_x_1_0.bvh',\n '022_Old_1_mirror_x_1_1.bvh',\n '022_Old_1_x_0_9.bvh',\n '022_Old_1_x_1_0.bvh',\n '022_Old_1_x_1_1.bvh',\n '023_Old_2_mirror_x_0_9.bvh',\n '023_Old_2_mirror_x_1_0.bvh',\n '023_Old_2_mirror_x_1_1.bvh',\n '023_Old_2_x_0_9.bvh',\n '023_Old_2_x_1_0.bvh',\n '023_Old_2_x_1_1.bvh',\n '024_Old_3_mirror_x_0_9.bvh',\n '024_Old_3_mirror_x_1_0.bvh',\n '024_Old_3_mirror_x_1_1.bvh',\n '024_Old_3_x_0_9.bvh',\n '024_Old_3_x_1_0.bvh',\n '024_Old_3_x_1_1.bvh',\n '025_Old_4_mirror_x_0_9.bvh',\n '025_Old_4_mirror_x_1_0.bvh',\n '025_Old_4_mirror_x_1_1.bvh',\n '025_Old_4_x_0_9.bvh',\n '025_Old_4_x_1_0.bvh',\n '025_Old_4_x_1_1.bvh',\n '026_Angry_0_mirror_x_0_9.bvh',\n '026_Angry_0_mirror_x_1_0.bvh',\n '026_Angry_0_mirror_x_1_1.bvh',\n '026_Angry_0_x_0_9.bvh',\n '026_Angry_0_x_1_0.bvh',\n '026_Angry_0_x_1_1.bvh',\n '027_Angry_1_mirror_x_0_9.bvh',\n '027_Angry_1_mirror_x_1_0.bvh',\n '027_Angry_1_mirror_x_1_1.bvh',\n '027_Angry_1_x_0_9.bvh',\n '027_Angry_1_x_1_0.bvh',\n '027_Angry_1_x_1_1.bvh',\n '028_Angry_2_mirror_x_0_9.bvh',\n '028_Angry_2_mirror_x_1_0.bvh',\n '028_Angry_2_mirror_x_1_1.bvh',\n '028_Angry_2_x_0_9.bvh',\n '028_Angry_2_x_1_0.bvh',\n '028_Angry_2_x_1_1.bvh',\n '029_Angry_3_mirror_x_0_9.bvh',\n '029_Angry_3_mirror_x_1_0.bvh',\n '029_Angry_3_mirror_x_1_1.bvh',\n '029_Angry_3_x_0_9.bvh',\n '029_Angry_3_x_1_0.bvh',\n '029_Angry_3_x_1_1.bvh']"
     },
     "execution_count": 26,
     "metadata": {},
     "output_type": "execute_result"
    }
   ],
   "source": [
    "bvh_files = [b for b in sorted(os.listdir(\"../../data/train/\")) if b.endswith(\".bvh\")]\n",
    "bvh_files"
   ],
   "metadata": {
    "collapsed": false,
    "ExecuteTime": {
     "end_time": "2024-11-29T15:59:28.482305100Z",
     "start_time": "2024-11-29T15:59:28.474318300Z"
    }
   },
   "id": "10ddf59e3b8e155d"
  },
  {
   "cell_type": "code",
   "execution_count": 30,
   "outputs": [
    {
     "name": "stdout",
     "output_type": "stream",
     "text": [
      "\n",
      "\n",
      "\n",
      " 001_Neutral_0_x_1_0.npy 001_Neutral_0_x_1_0.bvh \n",
      "\n",
      "\n",
      "\n",
      "\n",
      "\n",
      "\n",
      " 002_Neutral_1_x_1_0.npy 002_Neutral_1_x_1_0.bvh \n",
      "\n",
      "\n",
      "\n",
      "\n",
      "\n",
      "\n",
      " 003_Neutral_2_x_1_0.npy 003_Neutral_2_x_1_0.bvh \n",
      "\n",
      "\n",
      "\n",
      "\n",
      "\n",
      "\n",
      " 004_Neutral_3_x_1_0.npy 004_Neutral_3_x_1_0.bvh \n",
      "\n",
      "\n",
      "\n",
      "\n",
      "\n",
      "\n",
      " 005_Neutral_4_x_1_0.npy 005_Neutral_4_x_1_0.bvh \n",
      "\n",
      "\n",
      "\n",
      "\n",
      "\n",
      " 006_Sad_0_x_1_0.npy 006_Sad_0_x_1_0.bvh \n",
      "\n",
      "\n",
      "\n",
      "\n",
      "\n",
      "\n",
      " 007_Sad_1_x_1_0.npy 007_Sad_1_x_1_0.bvh \n",
      "\n",
      "\n",
      "\n",
      "\n",
      "\n",
      "\n",
      " 008_Sad_2_x_1_0.npy 008_Sad_2_x_1_0.bvh \n",
      "\n",
      "\n",
      "\n",
      "\n",
      "\n",
      "\n",
      " 009_Sad_3_x_1_0.npy 009_Sad_3_x_1_0.bvh \n",
      "\n",
      "\n",
      "\n",
      "\n",
      "\n",
      "\n",
      " 010_Sad_4_x_1_0.npy 010_Sad_4_x_1_0.bvh \n",
      "\n",
      "\n",
      "\n",
      "\n",
      "\n",
      "\n",
      " 011_Happy_0_x_1_0.npy 011_Happy_0_x_1_0.bvh \n",
      "\n",
      "\n",
      "\n",
      "\n",
      "\n",
      " 012_Happy_1_x_1_0.npy 012_Happy_1_x_1_0.bvh \n",
      "\n",
      "\n",
      "\n",
      "\n",
      "\n",
      "\n",
      " 013_Happy_2_x_1_0.npy 013_Happy_2_x_1_0.bvh \n",
      "\n",
      "\n",
      "\n",
      "\n",
      "\n",
      " 014_Happy_3_x_1_0.npy 014_Happy_3_x_1_0.bvh \n",
      "\n",
      "\n",
      "\n",
      "\n",
      "\n",
      " 015_Happy_4_x_1_0.npy 015_Happy_4_x_1_0.bvh \n",
      "\n",
      "\n",
      "\n",
      "\n",
      "\n",
      " 016_Relaxed_0_x_1_0.npy 016_Relaxed_0_x_1_0.bvh \n",
      "\n",
      "\n",
      "\n",
      "\n",
      "\n",
      " 017_Relaxed_1_x_1_0.npy 017_Relaxed_1_x_1_0.bvh \n",
      "\n",
      "\n",
      "\n",
      "\n",
      "\n",
      "\n",
      " 018_Relaxed_2_x_1_0.npy 018_Relaxed_2_x_1_0.bvh \n",
      "\n",
      "\n",
      "\n",
      "\n",
      "\n",
      " 019_Relaxed_3_x_1_0.npy 019_Relaxed_3_x_1_0.bvh \n",
      "\n",
      "\n",
      "\n",
      "\n",
      "\n",
      "\n",
      " 020_Relaxed_4_x_1_0.npy 020_Relaxed_4_x_1_0.bvh \n",
      "\n",
      "\n",
      "\n",
      "\n",
      "\n",
      " 021_Old_0_x_1_0.npy 021_Old_0_x_1_0.bvh \n",
      "\n",
      "\n",
      "\n",
      "\n",
      "\n",
      " 022_Old_1_x_1_0.npy 022_Old_1_x_1_0.bvh \n",
      "\n",
      "\n",
      "\n",
      "\n",
      "\n",
      " 023_Old_2_x_1_0.npy 023_Old_2_x_1_0.bvh \n",
      "\n",
      "\n",
      "\n",
      "\n",
      "\n",
      " 024_Old_3_x_1_0.npy 024_Old_3_x_1_0.bvh \n",
      "\n",
      "\n",
      "\n",
      "\n",
      "\n",
      "\n",
      " 025_Old_4_x_1_0.npy 025_Old_4_x_1_0.bvh \n",
      "\n",
      "\n",
      "\n",
      "\n",
      "\n",
      " 026_Angry_0_x_1_0.npy 026_Angry_0_x_1_0.bvh \n",
      "\n",
      "\n",
      "\n",
      "\n",
      "\n",
      " 027_Angry_1_x_1_0.npy 027_Angry_1_x_1_0.bvh \n",
      "\n",
      "\n",
      "\n",
      "\n",
      "\n",
      " 028_Angry_2_x_1_0.npy 028_Angry_2_x_1_0.bvh \n",
      "\n",
      "\n",
      "\n",
      "\n",
      "\n",
      " 029_Angry_3_x_1_0.npy 029_Angry_3_x_1_0.bvh \n",
      "\n",
      "\n"
     ]
    }
   ],
   "source": [
    "for name in bvh_files:\n",
    "    prefix_name = name.split(\"_\")[:2]\n",
    "    search_prefix = \"_\".join(prefix_name)\n",
    "    for c in npy_files:\n",
    "        if name.split(\"_\")[:2] == c.split(\"_\")[:2]:\n",
    "            if name[:-4] != c[:-4]:\n",
    "                source = os.path.join(\"../../processed/train/embedding\", c)\n",
    "                dest = os.path.join(\"../../processed/train/embedding\", f\"{name[:-4]}.npy\")\n",
    "                # print(\"source\", source, \"dest\", dest)\n",
    "                shutil.copy(source, dest)\n",
    "                # print(\"name \", name[:-4], \"c: \" , c[:-4])\n",
    "                # print(c, name)\n",
    "                pass\n",
    "            else:\n",
    "                print(\"\\n\\n\\n\", c, name, \"\\n\\n\\n\")\n",
    "        # if c.index(search_prefix) != -1:\n",
    "        #     print(c, search_prefix)\n",
    "    # print(search_prefix)"
   ],
   "metadata": {
    "collapsed": false,
    "ExecuteTime": {
     "end_time": "2024-11-29T16:05:21.271803900Z",
     "start_time": "2024-11-29T16:05:15.112174900Z"
    }
   },
   "id": "5e208f8c4553169d"
  },
  {
   "cell_type": "code",
   "execution_count": null,
   "outputs": [],
   "source": [],
   "metadata": {
    "collapsed": false
   },
   "id": "9862456a3176c438"
  }
 ],
 "metadata": {
  "kernelspec": {
   "display_name": "Python 3",
   "language": "python",
   "name": "python3"
  },
  "language_info": {
   "codemirror_mode": {
    "name": "ipython",
    "version": 2
   },
   "file_extension": ".py",
   "mimetype": "text/x-python",
   "name": "python",
   "nbconvert_exporter": "python",
   "pygments_lexer": "ipython2",
   "version": "2.7.6"
  }
 },
 "nbformat": 4,
 "nbformat_minor": 5
}
